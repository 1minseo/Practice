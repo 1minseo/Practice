{
 "cells": [
  {
   "cell_type": "markdown",
   "metadata": {},
   "source": [
    "지니 Top200 차트를 selenium과 beautifulsoup을 활용해서 크롤링해보기"
   ]
  },
  {
   "cell_type": "code",
   "execution_count": 5,
   "metadata": {},
   "outputs": [],
   "source": [
    "import requests\n",
    "import pandas as pd\n",
    "from bs4 import BeautifulSoup"
   ]
  },
  {
   "cell_type": "code",
   "execution_count": 6,
   "metadata": {},
   "outputs": [],
   "source": [
    "url= 'https://www.genie.co.kr/chart/top200'\n",
    "headers={\"User-Agent\":'Mozilla/5.0 (Windows NT 10.0; Win64; x64) AppleWebKit/537.36 (KHTML, like Gecko) Chrome/120.0.0.0 Safari/537.36'}\n",
    "res=requests.get(url, headers=headers)\n",
    "soup=BeautifulSoup(res.text,'html.parser')"
   ]
  },
  {
   "cell_type": "code",
   "execution_count": 7,
   "metadata": {},
   "outputs": [
    {
     "data": {
      "text/plain": [
       "<span id=\"inc_date\">2013.03.06</span>"
      ]
     },
     "execution_count": 7,
     "metadata": {},
     "output_type": "execute_result"
    }
   ],
   "source": [
    "soup.select_one('#inc_date')"
   ]
  },
  {
   "cell_type": "code",
   "execution_count": 8,
   "metadata": {},
   "outputs": [],
   "source": [
    "import time\n",
    "from selenium import webdriver\n",
    "from selenium.webdriver.common.keys import Keys\n",
    "from selenium.webdriver.common.by import By"
   ]
  },
  {
   "cell_type": "code",
   "execution_count": 9,
   "metadata": {},
   "outputs": [],
   "source": [
    "driver=webdriver.Chrome()\n",
    "driver.get(url)\n",
    "soup = BeautifulSoup(driver.page_source, 'html.parser')"
   ]
  },
  {
   "cell_type": "code",
   "execution_count": 38,
   "metadata": {},
   "outputs": [],
   "source": [
    "date=soup.select_one('#inc_date')"
   ]
  },
  {
   "cell_type": "code",
   "execution_count": 40,
   "metadata": {},
   "outputs": [
    {
     "data": {
      "text/plain": [
       "<span id=\"inc_time\">12:00</span>"
      ]
     },
     "execution_count": 40,
     "metadata": {},
     "output_type": "execute_result"
    }
   ],
   "source": [
    "time=soup.select_one('#inc_time')\n",
    "time"
   ]
  },
  {
   "cell_type": "code",
   "execution_count": 41,
   "metadata": {},
   "outputs": [],
   "source": [
    "driver.close()"
   ]
  },
  {
   "cell_type": "code",
   "execution_count": 42,
   "metadata": {},
   "outputs": [],
   "source": [
    "trs=soup.select('tr.list')"
   ]
  },
  {
   "cell_type": "code",
   "execution_count": 44,
   "metadata": {},
   "outputs": [
    {
     "data": {
      "text/plain": [
       "<tr class=\"list\" songid=\"104534602\">\n",
       "<td class=\"check\"><input class=\"select-check\" title=\"To. X\" type=\"checkbox\"/></td>\n",
       "<td class=\"number\">1\n",
       "                                        \n",
       "                                    <span class=\"rank\">\n",
       "<span class=\"rank\"><span class=\"rank-none\"><span class=\"hide\">유지</span></span></span>\n",
       "</span>\n",
       "</td>\n",
       "<td><a class=\"cover\" href=\"#\" onclick=\"fnViewAlbumLayer('84539814');return false;\"><span class=\"mask\"></span><img alt=\"To. X - The 5th Mini Album\" onerror=\"this.src='//image.genie.co.kr/imageg/web/common/blank_68.gif';\" src=\"//image.genie.co.kr/Y/IMAGE/IMG_ALBUM/084/539/814/84539814_1701067108915_1_140x140.JPG/dims/resize/Q_80,0\"/></a></td>\n",
       "<td class=\"link\"><a class=\"btn-basic btn-info\" href=\"#\" onclick=\"fnViewSongInfo('104534602');return false;\">곡 제목 정보 페이지</a></td>\n",
       "<td class=\"info\">\n",
       "<a class=\"title ellipsis\" href=\"#\" onclick=\"fnPlaySong('104534602','1');return false;\" title=\"재생\">\n",
       "                                        \n",
       "                                            \n",
       "                                        \n",
       "                                        \n",
       "                                        \n",
       "                                        \n",
       "                                            \n",
       "                                                To. X</a>\n",
       "<a class=\"artist ellipsis\" href=\"#\" onclick=\"fnViewArtist('56069675');return false;\">태연 (TAEYEON)</a>\n",
       "<div class=\"toggle-button-box\">\n",
       "<button class=\"btn artist-etc\" onclick=\"fnRelationArtistList('104534602');\" type=\"button\">외</button>\n",
       "<ul class=\"list\" id=\"RelationArtist_104534602\"></ul>\n",
       "</div>\n",
       "<i class=\"bar\">|</i>\n",
       "<a class=\"albumtitle ellipsis\" href=\"#\" onclick=\"fnViewAlbumLayer('84539814');return false;\">To. X - The 5th Mini Album</a>\n",
       "</td>\n",
       "<td class=\"btns\"><a class=\"btn-basic btn-listen\" href=\"#\" onclick=\"fnPlaySong('104534602;' ,'1'); return false;\" title=\"재생\">듣기</a></td>\n",
       "<td class=\"btns\"><a class=\"btn-basic btn-add\" href=\"#\" onclick=\"fnPlaySong('104534602;' ,'3'); return false;\" title=\"추가\">재생목록에 추가</a></td>\n",
       "<td class=\"btns\"><button class=\"btn-basic btn-album\" id=\"add_my_album_104534602\" onclick=\"fnAddMyAlbumForm('#add_my_album_104534602' , '104534602' ,10, 10);return false;\" songid=\"104534602\" type=\"button\">플레이리스트에 담기</button></td>\n",
       "<td class=\"btns\"><a class=\"btn-basic btn-down\" href=\"#\" onclick=\"fnDownSong('104534602');return false;\" title=\"다운\">다운로드</a></td>\n",
       "<td class=\"btns\">\n",
       "<div class=\"toggle-button-box lyr-mv\" id=\"list-mv_104534602\">\n",
       "<a alt=\"To. X\" class=\"btn btn-basic btn-mv\" href=\"#\" onclick=\"fnPlayMv('104534602','3'); return false;\" title=\"뮤비\">뮤직비디오 보기</a>\n",
       "</div>\n",
       "</td>\n",
       "<td class=\"more\">\n",
       "<div class=\"toggle-button-box\">\n",
       "<button class=\"btn btn-basic btn-more\" type=\"button\">더보기</button>\n",
       "<ul class=\"list\">\n",
       "<li><a class=\"item\" href=\"#\" onclick=\"shareDo('104534602');return false;\" title=\"공유\">공유하기/음악나누기</a></li>\n",
       "<li><a class=\"item\" href=\"#\" onclick=\"fnGiftSong('104534602');return false;\" title=\"선물\">선물하기</a></li>\n",
       "</ul>\n",
       "</div>\n",
       "</td>\n",
       "</tr>"
      ]
     },
     "execution_count": 44,
     "metadata": {},
     "output_type": "execute_result"
    }
   ],
   "source": [
    "tr=trs[0]\n",
    "tr"
   ]
  },
  {
   "cell_type": "code",
   "execution_count": 47,
   "metadata": {},
   "outputs": [
    {
     "data": {
      "text/plain": [
       "'1'"
      ]
     },
     "execution_count": 47,
     "metadata": {},
     "output_type": "execute_result"
    }
   ],
   "source": [
    "rank=tr.select_one('.number').get_text().split('\\n')[0].strip()\n",
    "rank"
   ]
  },
  {
   "cell_type": "code",
   "execution_count": 48,
   "metadata": {},
   "outputs": [
    {
     "data": {
      "text/plain": [
       "'To. X'"
      ]
     },
     "execution_count": 48,
     "metadata": {},
     "output_type": "execute_result"
    }
   ],
   "source": [
    "title=tr.select_one('.title.ellipsis').get_text().strip()\n",
    "title"
   ]
  },
  {
   "cell_type": "code",
   "execution_count": 32,
   "metadata": {},
   "outputs": [
    {
     "data": {
      "text/plain": [
       "'태연 (TAEYEON)'"
      ]
     },
     "execution_count": 32,
     "metadata": {},
     "output_type": "execute_result"
    }
   ],
   "source": [
    "artist=tr.select_one('.artist.ellipsis').get_text().strip()\n",
    "artist"
   ]
  },
  {
   "cell_type": "code",
   "execution_count": 49,
   "metadata": {},
   "outputs": [
    {
     "data": {
      "text/plain": [
       "'To. X - The 5th Mini Album'"
      ]
     },
     "execution_count": 49,
     "metadata": {},
     "output_type": "execute_result"
    }
   ],
   "source": [
    "album=tr.select_one('.albumtitle.ellipsis').get_text().strip()\n",
    "album"
   ]
  },
  {
   "cell_type": "code",
   "execution_count": 50,
   "metadata": {},
   "outputs": [
    {
     "data": {
      "text/plain": [
       "[{'rank': '1',\n",
       "  'title': 'To. X',\n",
       "  'artist': '태연 (TAEYEON)',\n",
       "  'album': 'To. X - The 5th Mini Album'},\n",
       " {'rank': '2',\n",
       "  'title': 'Drama',\n",
       "  'artist': 'aespa',\n",
       "  'album': 'Drama - The 4th Mini Album'},\n",
       " {'rank': '3',\n",
       "  'title': 'Perfect Night',\n",
       "  'artist': 'LE SSERAFIM (르세라핌)',\n",
       "  'album': 'Perfect Night'},\n",
       " {'rank': '4', 'title': '헤어지자 말해요', 'artist': '박재정', 'album': '1집 Alone'},\n",
       " {'rank': '5', 'title': 'Baddie', 'artist': 'IVE (아이브)', 'album': \"I'VE MINE\"},\n",
       " {'rank': '6',\n",
       "  'title': 'Love Lee',\n",
       "  'artist': 'AKMU (악뮤)',\n",
       "  'album': 'Love Lee'},\n",
       " {'rank': '7', 'title': '후라이의 꿈', 'artist': 'AKMU (악뮤)', 'album': 'Love Lee'},\n",
       " {'rank': '8', 'title': 'I AM', 'artist': 'IVE (아이브)', 'album': \"I've IVE\"},\n",
       " {'rank': '9',\n",
       "  'title': 'You & Me',\n",
       "  'artist': '제니 (JENNIE)',\n",
       "  'album': 'JENNIE Special Single ［You & Me］'},\n",
       " {'rank': '10',\n",
       "  'title': '사막에서 꽃을 피우듯',\n",
       "  'artist': '우디 (Woody)',\n",
       "  'album': '사막에서 꽃을 피우듯'},\n",
       " {'rank': '11',\n",
       "  'title': 'ETA',\n",
       "  'artist': 'NewJeans',\n",
       "  'album': \"NewJeans 2nd EP 'Get Up'\"},\n",
       " {'rank': '12',\n",
       "  'title': 'Seven (Feat. Latto) (Clean Ver.)',\n",
       "  'artist': '정국',\n",
       "  'album': 'Seven (Clean Ver.)'},\n",
       " {'rank': '13',\n",
       "  'title': '사랑은 늘 도망가',\n",
       "  'artist': '임영웅',\n",
       "  'album': '신사와 아가씨 OST Part.2'},\n",
       " {'rank': '14',\n",
       "  'title': 'Smoke (Prod. by Dynamicduo & Padi)',\n",
       "  'artist': '다이나믹 듀오 & 이영지',\n",
       "  'album': '스트릿 우먼 파이터2 (SWF2) 계급미션'},\n",
       " {'rank': '15', 'title': '인사', 'artist': '범진', 'album': '인사'},\n",
       " {'rank': '16', 'title': '비의 랩소디', 'artist': '임재현', 'album': '비의 랩소디'},\n",
       " {'rank': '17',\n",
       "  'title': 'Ditto',\n",
       "  'artist': 'NewJeans',\n",
       "  'album': \"NewJeans 'OMG'\"},\n",
       " {'rank': '18',\n",
       "  'title': 'All I Want for Christmas Is You',\n",
       "  'artist': 'Mariah Carey',\n",
       "  'album': 'Merry Christmas (Deluxe Anniversary Edition)'},\n",
       " {'rank': '19', 'title': '우리들의 블루스', 'artist': '임영웅', 'album': 'IM HERO'},\n",
       " {'rank': '20',\n",
       "  'title': 'Super Shy',\n",
       "  'artist': 'NewJeans',\n",
       "  'album': \"NewJeans 2nd EP 'Get Up'\"},\n",
       " {'rank': '21', 'title': '모래 알갱이', 'artist': '임영웅', 'album': '모래 알갱이'},\n",
       " {'rank': '22',\n",
       "  'title': '퀸카 (Queencard)',\n",
       "  'artist': '(여자)아이들',\n",
       "  'album': 'I feel'},\n",
       " {'rank': '23',\n",
       "  'title': '이제 나만 믿어요',\n",
       "  'artist': '임영웅',\n",
       "  'album': '내일은 미스터트롯 우승자 특전곡'},\n",
       " {'rank': '24',\n",
       "  'title': '사건의 지평선',\n",
       "  'artist': '윤하 (YOUNHA)',\n",
       "  'album': \"YOUNHA 6th Album Repackage 'END THEORY : Final Edition'\"},\n",
       " {'rank': '25', 'title': '다시 만날 수 있을까', 'artist': '임영웅', 'album': 'IM HERO'},\n",
       " {'rank': '26',\n",
       "  'title': '그대만 있다면 (여름날 우리 X 너드커넥션 (Nerd Connection))',\n",
       "  'artist': '너드커넥션 (Nerd Connection)',\n",
       "  'album': '그대만 있다면 (여름날 우리 X 너드커넥션 (Nerd Connection))'},\n",
       " {'rank': '27',\n",
       "  'title': 'Hype Boy',\n",
       "  'artist': 'NewJeans',\n",
       "  'album': \"NewJeans 1st EP 'New Jeans'\"},\n",
       " {'rank': '28',\n",
       "  'title': 'Either Way',\n",
       "  'artist': 'IVE (아이브)',\n",
       "  'album': \"I'VE MINE\"},\n",
       " {'rank': '29', 'title': 'Do or Die', 'artist': '임영웅', 'album': 'Do or Die'},\n",
       " {'rank': '30',\n",
       "  'title': 'Santa Tell Me',\n",
       "  'artist': 'Ariana Grande',\n",
       "  'album': 'Santa Tell Me'},\n",
       " {'rank': '31', 'title': '무지개', 'artist': '임영웅', 'album': 'IM HERO'},\n",
       " {'rank': '32', 'title': 'London Boy', 'artist': '임영웅', 'album': 'Polaroid'},\n",
       " {'rank': '33',\n",
       "  'title': '예뻤어',\n",
       "  'artist': 'DAY6 (데이식스)',\n",
       "  'album': 'Every DAY6 February'},\n",
       " {'rank': '34', 'title': 'Polaroid', 'artist': '임영웅', 'album': 'Polaroid'},\n",
       " {'rank': '35', 'title': '심 (心)', 'artist': 'DK (디셈버)', 'album': '심 (心)'},\n",
       " {'rank': '36', 'title': '아버지', 'artist': '임영웅', 'album': 'IM HERO'},\n",
       " {'rank': '37',\n",
       "  'title': 'Fast Forward',\n",
       "  'artist': '전소미',\n",
       "  'album': 'GAME PLAN'},\n",
       " {'rank': '38',\n",
       "  'title': \"I Don't Think That I Like Her\",\n",
       "  'artist': 'Charlie Puth',\n",
       "  'album': 'CHARLIE'},\n",
       " {'rank': '39', 'title': '잠시라도 우리', 'artist': '성시경 & 나얼', 'album': '잠시라도 우리'},\n",
       " {'rank': '40', 'title': 'A bientot', 'artist': '임영웅', 'album': 'IM HERO'},\n",
       " {'rank': '41', 'title': '인생찬가', 'artist': '임영웅', 'album': 'IM HERO'},\n",
       " {'rank': '42', 'title': 'Kitsch', 'artist': 'IVE (아이브)', 'album': \"I've IVE\"},\n",
       " {'rank': '43',\n",
       "  'title': '잘 지내자, 우리 (여름날 우리 X 로이킴)',\n",
       "  'artist': '로이킴',\n",
       "  'album': '잘 지내자, 우리 (여름날 우리 X 로이킴)'},\n",
       " {'rank': '44',\n",
       "  'title': '너의 모든 순간',\n",
       "  'artist': '성시경',\n",
       "  'album': '별에서 온 그대 OST Part.7 (SBS 수목드라마)'},\n",
       " {'rank': '45',\n",
       "  'title': 'Spicy',\n",
       "  'artist': 'aespa',\n",
       "  'album': 'MY WORLD - The 3rd Mini Album'},\n",
       " {'rank': '46',\n",
       "  'title': '이브, 프시케 그리고 푸른 수염의 아내',\n",
       "  'artist': 'LE SSERAFIM (르세라핌)',\n",
       "  'album': 'UNFORGIVEN'},\n",
       " {'rank': '47',\n",
       "  'title': '사랑인가 봐',\n",
       "  'artist': '멜로망스 (MeloMance)',\n",
       "  'album': '사랑인가 봐 (사내맞선 OST 스페셜 트랙)'},\n",
       " {'rank': '48', 'title': '연애편지', 'artist': '임영웅', 'album': 'IM HERO'},\n",
       " {'rank': '49',\n",
       "  'title': 'After LIKE',\n",
       "  'artist': 'IVE (아이브)',\n",
       "  'album': 'After LIKE'},\n",
       " {'rank': '50', 'title': '물론', 'artist': '허각', 'album': '물론'}]"
      ]
     },
     "execution_count": 50,
     "metadata": {},
     "output_type": "execute_result"
    }
   ],
   "source": [
    "data=[]\n",
    "for tr in trs:\n",
    "    rank=tr.select_one('.number').get_text().split('\\n')[0].strip()\n",
    "    title=tr.select_one('.title.ellipsis').get_text().strip()\n",
    "    artist=tr.select_one('.artist.ellipsis').get_text().strip()\n",
    "    album=tr.select_one('.albumtitle.ellipsis').get_text().strip()\n",
    "    data.append({'rank':rank, 'title':title, 'artist':artist,'album':album})\n",
    "data #첫페이지(50위까지)    "
   ]
  },
  {
   "cell_type": "code",
   "execution_count": 51,
   "metadata": {},
   "outputs": [
    {
     "data": {
      "text/plain": [
       "50"
      ]
     },
     "execution_count": 51,
     "metadata": {},
     "output_type": "execute_result"
    }
   ],
   "source": [
    "len(data)"
   ]
  },
  {
   "cell_type": "code",
   "execution_count": 52,
   "metadata": {},
   "outputs": [
    {
     "name": "stderr",
     "output_type": "stream",
     "text": [
      "100%|██████████| 4/4 [00:01<00:00,  3.54it/s]\n"
     ]
    }
   ],
   "source": [
    "#나머지 페이지\n",
    "from tqdm import tqdm\n",
    "data=[]\n",
    "for page in tqdm(range(1,5)):\n",
    "    url= f'https://www.genie.co.kr/chart/top200'\n",
    "    res=requests.get(url, headers=headers)\n",
    "    soup=BeautifulSoup(res.text,'html.parser')\n",
    "    trs=soup.select('tr.list')\n",
    "    for tr in trs:\n",
    "        rank=tr.select_one('.number').get_text().split('\\n')[0].strip()\n",
    "        title=tr.select_one('.title.ellipsis').get_text().strip()\n",
    "        artist=tr.select_one('.artist.ellipsis').get_text().strip()\n",
    "        album=tr.select_one('.albumtitle.ellipsis').get_text().strip()\n",
    "        data.append({'rank':rank, 'title':title, 'artist':artist,'album':album})"
   ]
  },
  {
   "cell_type": "code",
   "execution_count": 53,
   "metadata": {},
   "outputs": [
    {
     "data": {
      "text/html": [
       "<div>\n",
       "<style scoped>\n",
       "    .dataframe tbody tr th:only-of-type {\n",
       "        vertical-align: middle;\n",
       "    }\n",
       "\n",
       "    .dataframe tbody tr th {\n",
       "        vertical-align: top;\n",
       "    }\n",
       "\n",
       "    .dataframe thead th {\n",
       "        text-align: right;\n",
       "    }\n",
       "</style>\n",
       "<table border=\"1\" class=\"dataframe\">\n",
       "  <thead>\n",
       "    <tr style=\"text-align: right;\">\n",
       "      <th></th>\n",
       "      <th>rank</th>\n",
       "      <th>title</th>\n",
       "      <th>artist</th>\n",
       "      <th>album</th>\n",
       "    </tr>\n",
       "  </thead>\n",
       "  <tbody>\n",
       "    <tr>\n",
       "      <th>0</th>\n",
       "      <td>1</td>\n",
       "      <td>To. X</td>\n",
       "      <td>태연 (TAEYEON)</td>\n",
       "      <td>To. X - The 5th Mini Album</td>\n",
       "    </tr>\n",
       "    <tr>\n",
       "      <th>1</th>\n",
       "      <td>2</td>\n",
       "      <td>Drama</td>\n",
       "      <td>aespa</td>\n",
       "      <td>Drama - The 4th Mini Album</td>\n",
       "    </tr>\n",
       "    <tr>\n",
       "      <th>2</th>\n",
       "      <td>3</td>\n",
       "      <td>Perfect Night</td>\n",
       "      <td>LE SSERAFIM (르세라핌)</td>\n",
       "      <td>Perfect Night</td>\n",
       "    </tr>\n",
       "    <tr>\n",
       "      <th>3</th>\n",
       "      <td>4</td>\n",
       "      <td>Love Lee</td>\n",
       "      <td>AKMU (악뮤)</td>\n",
       "      <td>Love Lee</td>\n",
       "    </tr>\n",
       "    <tr>\n",
       "      <th>4</th>\n",
       "      <td>5</td>\n",
       "      <td>헤어지자 말해요</td>\n",
       "      <td>박재정</td>\n",
       "      <td>1집 Alone</td>\n",
       "    </tr>\n",
       "  </tbody>\n",
       "</table>\n",
       "</div>"
      ],
      "text/plain": [
       "  rank          title              artist                       album\n",
       "0    1          To. X        태연 (TAEYEON)  To. X - The 5th Mini Album\n",
       "1    2          Drama               aespa  Drama - The 4th Mini Album\n",
       "2    3  Perfect Night  LE SSERAFIM (르세라핌)               Perfect Night\n",
       "3    4       Love Lee           AKMU (악뮤)                    Love Lee\n",
       "4    5       헤어지자 말해요                 박재정                    1집 Alone"
      ]
     },
     "execution_count": 53,
     "metadata": {},
     "output_type": "execute_result"
    }
   ],
   "source": [
    "df=pd.DataFrame(data)\n",
    "df.head()"
   ]
  }
 ],
 "metadata": {
  "kernelspec": {
   "display_name": "Python 3",
   "language": "python",
   "name": "python3"
  },
  "language_info": {
   "codemirror_mode": {
    "name": "ipython",
    "version": 3
   },
   "file_extension": ".py",
   "mimetype": "text/x-python",
   "name": "python",
   "nbconvert_exporter": "python",
   "pygments_lexer": "ipython3",
   "version": "3.9.12"
  }
 },
 "nbformat": 4,
 "nbformat_minor": 2
}
