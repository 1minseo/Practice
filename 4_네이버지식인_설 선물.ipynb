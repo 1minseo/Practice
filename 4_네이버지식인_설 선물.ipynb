{
 "cells": [
  {
   "cell_type": "code",
   "execution_count": 66,
   "metadata": {},
   "outputs": [],
   "source": [
    "import time\n",
    "import pandas as pd \n",
    "from bs4 import BeautifulSoup\n",
    "from selenium import webdriver\n",
    "from selenium.webdriver.common.keys import Keys\n",
    "from selenium.webdriver.common.by import By\n",
    "from urllib.parse import quote"
   ]
  },
  {
   "cell_type": "code",
   "execution_count": 71,
   "metadata": {},
   "outputs": [],
   "source": [
    "url = f'https://kin.naver.com/search/list.naver?query={quote(\"설 선물\")}&page=1'\n",
    "driver=webdriver.Chrome() #크롬드라이버 연결\n",
    "driver.get(url) #url 가져오기\n",
    "soup=BeautifulSoup(driver.page_source,'html.parser') #첫페이지를 soup으로"
   ]
  },
  {
   "cell_type": "code",
   "execution_count": 72,
   "metadata": {},
   "outputs": [
    {
     "data": {
      "text/plain": [
       "10"
      ]
     },
     "execution_count": 72,
     "metadata": {},
     "output_type": "execute_result"
    }
   ],
   "source": [
    "lis = soup.select('.basic1 > li')\n",
    "len(lis)"
   ]
  },
  {
   "cell_type": "code",
   "execution_count": 73,
   "metadata": {},
   "outputs": [
    {
     "data": {
      "text/plain": [
       "'https://kin.naver.com/qna/detail.naver?d1id=3&dirId=3010203&docId=436736796&qb=7ISkIOyEoOusvA==&enc=utf8&section=kin&rank=3&search_sort=0&spq=0'"
      ]
     },
     "execution_count": 73,
     "metadata": {},
     "output_type": "execute_result"
    }
   ],
   "source": [
    "li = lis[2]\n",
    "sub_url = li.select_one('a._searchListTitleAnchor')['href']\n",
    "sub_url"
   ]
  },
  {
   "cell_type": "code",
   "execution_count": 74,
   "metadata": {},
   "outputs": [],
   "source": [
    "driver.get(sub_url)\n",
    "time.sleep(2)"
   ]
  },
  {
   "cell_type": "code",
   "execution_count": 39,
   "metadata": {},
   "outputs": [
    {
     "data": {
      "text/plain": [
       "'4'"
      ]
     },
     "execution_count": 39,
     "metadata": {},
     "output_type": "execute_result"
    }
   ],
   "source": [
    "#더보기 클릭 횟수 확인\n",
    "answer_num=driver.find_element(By.CSS_SELECTOR,'._answerCount.num').text\n",
    "answer_num"
   ]
  },
  {
   "cell_type": "code",
   "execution_count": 40,
   "metadata": {},
   "outputs": [
    {
     "data": {
      "text/plain": [
       "0"
      ]
     },
     "execution_count": 40,
     "metadata": {},
     "output_type": "execute_result"
    }
   ],
   "source": [
    "click_num=(int(answer_num)-1) // 5 #4개의 답변이 있으므로 한번도 안눌러도 됨\n",
    "click_num"
   ]
  },
  {
   "cell_type": "code",
   "execution_count": 41,
   "metadata": {},
   "outputs": [],
   "source": [
    "#더보기 횟수만큼 클릭 (횟수만큼 반복문)\n",
    "for _ in range(click_num):\n",
    "    driver.find_element(By.ID,'nextPageButton').click()\n",
    "    time.sleep(2)"
   ]
  },
  {
   "cell_type": "code",
   "execution_count": 42,
   "metadata": {},
   "outputs": [
    {
     "data": {
      "text/plain": [
       "4"
      ]
     },
     "execution_count": 42,
     "metadata": {},
     "output_type": "execute_result"
    }
   ],
   "source": [
    "#펼쳐진 화면을 Beautifulsoup으로 파싱\n",
    "sub_soup=BeautifulSoup(driver.page_source,'html.parser')\n",
    "divs= sub_soup.select('.answer-content__list._answerList > div') #답변이 담길 변수\n",
    "len(divs)"
   ]
  },
  {
   "cell_type": "code",
   "execution_count": 43,
   "metadata": {},
   "outputs": [
    {
     "data": {
      "text/plain": [
       "4"
      ]
     },
     "execution_count": 43,
     "metadata": {},
     "output_type": "execute_result"
    }
   ],
   "source": [
    "#답변 목록에서 개별 답변을 선택하고 글을 추출\n",
    "div=divs[0] #답변 중 하나를 가져옴\n",
    "ps=div.select('.se-text-paragraph.se-text-paragraph-align-')\n",
    "len(ps)"
   ]
  },
  {
   "cell_type": "code",
   "execution_count": 44,
   "metadata": {},
   "outputs": [
    {
     "data": {
      "text/plain": [
       "[<p class=\"se-text-paragraph se-text-paragraph-align-\" id=\"SE-b2552918-97ba-11ed-83c9-15c95ea3c47a\" style=\"\"><span class=\"se-fs- se-ff-\" id=\"SE-e5c668b0-97ba-11ed-83c9-35e1e55025bd\" style=\"\">저도 과일로 드리는데 일반딸기 말고</span></p>,\n",
       " <p class=\"se-text-paragraph se-text-paragraph-align-\" id=\"SE-e5c6419a-97ba-11ed-83c9-61803cab6369\" style=\"\"><span class=\"se-fs- se-ff-\" id=\"SE-e5c668b1-97ba-11ed-83c9-956919d556ee\" style=\"\">사이즈 큰 실한 딸기 드리면 아 좋은과일 사왔구나!</span></p>,\n",
       " <p class=\"se-text-paragraph se-text-paragraph-align-\" id=\"SE-e5c6419c-97ba-11ed-83c9-756b52628589\" style=\"\"><span class=\"se-fs- se-ff-\" id=\"SE-e5c668b2-97ba-11ed-83c9-b9466c7283b6\" style=\"\">느끼실겁니다. 딸기자체도 지금 비싼 시즌이구요.</span></p>,\n",
       " <p class=\"se-text-paragraph se-text-paragraph-align-\" id=\"SE-e5c6419e-97ba-11ed-83c9-cd6d9d00b4d6\" style=\"\"><span class=\"se-fs- se-ff-\" id=\"SE-e5c668b3-97ba-11ed-83c9-350f03ae9767\" style=\"\">선물하셔도 됩니다. 채택 부탁드립니다.</span></p>]"
      ]
     },
     "execution_count": 44,
     "metadata": {},
     "output_type": "execute_result"
    }
   ],
   "source": [
    "ps"
   ]
  },
  {
   "cell_type": "code",
   "execution_count": 45,
   "metadata": {},
   "outputs": [
    {
     "name": "stdout",
     "output_type": "stream",
     "text": [
      "저도 과일로 드리는데 일반딸기 말고\n",
      "사이즈 큰 실한 딸기 드리면 아 좋은과일 사왔구나!\n",
      "느끼실겁니다. 딸기자체도 지금 비싼 시즌이구요.\n",
      "선물하셔도 됩니다. 채택 부탁드립니다.\n",
      "\n"
     ]
    }
   ],
   "source": [
    "#리스트에서 텍스트만 뽑아오기\n",
    "answer=''\n",
    "for p in ps:\n",
    "    text=p.get_text().strip()\n",
    "    if text == '\\u200b' or text=='':\n",
    "        continue\n",
    "    answer += text+'\\n'\n",
    "print(answer)    "
   ]
  },
  {
   "cell_type": "code",
   "execution_count": 46,
   "metadata": {},
   "outputs": [],
   "source": [
    "#답변목록에 있는 모든 답변을 선택해서 글을 추출\n",
    "answer_list=[] #4개의 답변이 텍스트화돼서 원소로 들어감\n",
    "for div in divs:\n",
    "    ps=div.select('.se-text-paragraph.se-text-paragraph-align-')\n",
    "    answer=''\n",
    "    for p in ps:\n",
    "        text=p.get_text().strip()\n",
    "        if text == '\\u200b' or text=='':\n",
    "            continue\n",
    "        answer += text+'\\n'\n",
    "    answer_list.append(answer)    \n"
   ]
  },
  {
   "cell_type": "code",
   "execution_count": 47,
   "metadata": {},
   "outputs": [
    {
     "data": {
      "text/plain": [
       "['저도 과일로 드리는데 일반딸기 말고\\n사이즈 큰 실한 딸기 드리면 아 좋은과일 사왔구나!\\n느끼실겁니다. 딸기자체도 지금 비싼 시즌이구요.\\n선물하셔도 됩니다. 채택 부탁드립니다.\\n',\n",
       " '딸기도 좋아요 근데 보관이 오래되지않아서 주는 입장도 사자마자 줘야하고 받는 분도 빨리 먹어야한다는 부담이 있을 수 있어요 냉동해먹긴 또 아깝구요ㅠㅠ 곶감정도는 어떠실까요~\\n',\n",
       " '안녕하세요\\n설 선물로 딸기는 괜찮아 보이구요\\n아래 답변 해주신데로 알맹이가 작은 것 보단\\n선물용 큼직큼직한 제품으로 포장도 잘 되어있는 제품으로\\n선물하시면 좋을 것 같습니다\\nhttps://link.coupang.com/a/MILwV\\n\"이 포스팅은 쿠팡 파트너스 활동의 일환으로, 이에 따른 일정액의 수수료를 제공받습니다.\"\\n감사합니다.\\n',\n",
       " '']"
      ]
     },
     "execution_count": 47,
     "metadata": {},
     "output_type": "execute_result"
    }
   ],
   "source": [
    "answer_list"
   ]
  },
  {
   "cell_type": "code",
   "execution_count": 48,
   "metadata": {},
   "outputs": [
    {
     "data": {
      "text/plain": [
       "4"
      ]
     },
     "execution_count": 48,
     "metadata": {},
     "output_type": "execute_result"
    }
   ],
   "source": [
    "len(answer_list)"
   ]
  },
  {
   "cell_type": "code",
   "execution_count": 49,
   "metadata": {},
   "outputs": [],
   "source": [
    "driver.back() #전페이지로 돌아가기"
   ]
  },
  {
   "cell_type": "markdown",
   "metadata": {},
   "source": [
    "한화면의 글 10개에서 모든 답변을 추출"
   ]
  },
  {
   "cell_type": "code",
   "execution_count": 54,
   "metadata": {},
   "outputs": [
    {
     "name": "stdout",
     "output_type": "stream",
     "text": [
      "0 1 2 1 2 0 2 0 0 2 \n",
      "1 2 5 2 0 3 0 2 1 3 \n",
      "3 2 1 1 1 2 2 1 0 0 \n",
      "1 0 1 0 3 0 2 0 2 0 \n",
      "0 0 1 1 2 1 0 1 0 0 \n",
      "0 1 0 4 0 1 0 0 0 0 \n",
      "2 0 0 0 1 1 1 2 2 0 \n",
      "0 2 3 0 0 0 1 2 1 0 \n",
      "0 2 0 1 0 1 0 1 0 0 \n",
      "0 0 1 0 1 1 0 1 0 0 \n"
     ]
    }
   ],
   "source": [
    "answer_list=[]\n",
    "driver=webdriver.Chrome()\n",
    "for page in range(1,11):\n",
    "    url = f'https://kin.naver.com/search/list.naver?query={quote(\"설 선물\")}&page={page}'\n",
    "    driver=webdriver.Chrome()\n",
    "    driver.get(url)\n",
    "    time.sleep(2)\n",
    "    soup=BeautifulSoup(driver.page_source,'html.parser')\n",
    "    lis=soup.select('.basic1>li')\n",
    "    \n",
    "    for li in lis:\n",
    "        sub_url=li.select_one('a._searchListTitleAnchor')['href'] #서브url\n",
    "        driver.get(sub_url)\n",
    "        time.sleep(3)\n",
    "    \n",
    "        answer_num=driver.find_element(By.CSS_SELECTOR,'._answerCount.num').text\n",
    "        click_num=(int(answer_num)-1) // 5\n",
    "        print(click_num, end=' ') #답변이 몇개인지 알 수 있음\n",
    "        for _ in range(click_num):\n",
    "            driver.find_element(By.ID,'nextPageButton').click()\n",
    "            time.sleep(3)\n",
    "\n",
    "        sub_soup=BeautifulSoup(driver.page_source,'html.parser')\n",
    "        divs= sub_soup.select('.answer-content__list._answerList > div')\n",
    "        for div in divs:\n",
    "            ps=div.select('.se-text-paragraph.se-text-paragraph-align-')\n",
    "            answer=''\n",
    "            for p in ps:\n",
    "                text=p.get_text().strip()\n",
    "                if text == '\\u200b' or text=='':\n",
    "                    continue\n",
    "                answer += text+'\\n'\n",
    "            answer_list.append(answer)\n",
    "        driver.back()\n",
    "        time.sleep(2)\n",
    "    print()\n",
    "driver.close()  "
   ]
  },
  {
   "cell_type": "code",
   "execution_count": 55,
   "metadata": {},
   "outputs": [
    {
     "data": {
      "text/plain": [
       "720"
      ]
     },
     "execution_count": 55,
     "metadata": {},
     "output_type": "execute_result"
    }
   ],
   "source": [
    "len(answer_list) #720개"
   ]
  },
  {
   "cell_type": "markdown",
   "metadata": {},
   "source": [
    "파일로 저장"
   ]
  },
  {
   "cell_type": "code",
   "execution_count": 56,
   "metadata": {},
   "outputs": [],
   "source": [
    "with open('설 선물.txt', 'w', encoding='utf-8') as file:\n",
    "    for answer in answer_list:\n",
    "        file.write(answer+'\\n')"
   ]
  }
 ],
 "metadata": {
  "kernelspec": {
   "display_name": "Python 3",
   "language": "python",
   "name": "python3"
  },
  "language_info": {
   "codemirror_mode": {
    "name": "ipython",
    "version": 3
   },
   "file_extension": ".py",
   "mimetype": "text/x-python",
   "name": "python",
   "nbconvert_exporter": "python",
   "pygments_lexer": "ipython3",
   "version": "3.9.12"
  }
 },
 "nbformat": 4,
 "nbformat_minor": 2
}
