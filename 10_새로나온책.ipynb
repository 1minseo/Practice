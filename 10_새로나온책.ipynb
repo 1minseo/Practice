{
 "cells": [
  {
   "cell_type": "markdown",
   "metadata": {},
   "source": [
    "한빛아카데미\n",
    "https://www.hanbit.co.kr/academy/books/new_book_list.html?page=3"
   ]
  },
  {
   "cell_type": "code",
   "execution_count": 35,
   "metadata": {},
   "outputs": [],
   "source": [
    "import requests\n",
    "import pandas as pd\n",
    "from bs4 import BeautifulSoup\n",
    "from tqdm import tqdm #반복문에서 진행상황을 시각화해주는데 사용되는 'tqdm'"
   ]
  },
  {
   "cell_type": "code",
   "execution_count": 38,
   "metadata": {},
   "outputs": [
    {
     "name": "stdout",
     "output_type": "stream",
     "text": [
      "Collecting tqdm\n",
      "  Downloading tqdm-4.66.1-py3-none-any.whl.metadata (57 kB)\n",
      "     ---------------------------------------- 0.0/57.6 kB ? eta -:--:--\n",
      "     ---------------------------------------- 57.6/57.6 kB 3.0 MB/s eta 0:00:00\n",
      "Requirement already satisfied: colorama in c:\\python39\\lib\\site-packages (from tqdm) (0.4.6)\n",
      "Downloading tqdm-4.66.1-py3-none-any.whl (78 kB)\n",
      "   ---------------------------------------- 0.0/78.3 kB ? eta -:--:--\n",
      "   ---------------------------------------- 78.3/78.3 kB ? eta 0:00:00\n",
      "Installing collected packages: tqdm\n",
      "Successfully installed tqdm-4.66.1\n"
     ]
    }
   ],
   "source": [
    "#! pip install tqdm : 진행사항을 100% bar형태로 알려줌"
   ]
  },
  {
   "cell_type": "code",
   "execution_count": 5,
   "metadata": {},
   "outputs": [],
   "source": [
    "base_url='https://www.hanbit.co.kr' #url 분리\n",
    "main_url='/academy/books/new_book_list.html'\n",
    "url=f'{base_url}{main_url}?page=1'\n",
    "res=requests.get(url)\n",
    "soup = BeautifulSoup(res.text, 'html.parser')"
   ]
  },
  {
   "cell_type": "code",
   "execution_count": 6,
   "metadata": {},
   "outputs": [
    {
     "name": "stdout",
     "output_type": "stream",
     "text": [
      "20\n"
     ]
    }
   ],
   "source": [
    "lis=soup.select('.sub_book_list')\n",
    "print(len(lis)) #한페이지당 책이 20개씩"
   ]
  },
  {
   "cell_type": "code",
   "execution_count": 7,
   "metadata": {},
   "outputs": [
    {
     "data": {
      "text/plain": [
       "<li class=\"sub_book_list\">\n",
       "<div class=\"view_box\">\n",
       "<span class=\"view_box_block\">\n",
       "<span class=\"img_hidden_a\">\n",
       "<span class=\"pop_quick_menu\">\n",
       "<a href=\"/academy/books/book_view.html?p_code=B3329728344\"><img alt=\"상세보기\" src=\"https://www.hanbit.co.kr/images/common/icon_view_detail.png\"/></a>\n",
       "</span>\n",
       "<span class=\"price\">32,000<span>원</span></span>\n",
       "<span class=\"pop_quick_bg\" onclick=\"location='/academy/books/book_view.html?p_code=B3329728344'\"></span>\n",
       "</span>\n",
       "<!-- 예약도서인 경우 -->\n",
       "<!-- ebook이 도서인 경우 -->\n",
       "<img alt=\"\" class=\"thumb\" src=\"/data/books/B3329728344_m.jpg\"/>\n",
       "</span>\n",
       "<div class=\"info\">\n",
       "<p class=\"book_tit\"><a href=\"/academy/books/book_view.html?p_code=B3329728344\">IT@CookBook, 예제로 배우는 회로이론</a></p>\n",
       "<p class=\"book_writer\">김명식 </p>\n",
       "</div>\n",
       "</div>\n",
       "</li>"
      ]
     },
     "execution_count": 7,
     "metadata": {},
     "output_type": "execute_result"
    }
   ],
   "source": [
    "li=lis[0] #첫번째책 하나만 뽑기\n",
    "li"
   ]
  },
  {
   "cell_type": "code",
   "execution_count": 8,
   "metadata": {},
   "outputs": [
    {
     "data": {
      "text/plain": [
       "'/academy/books/book_view.html?p_code=B3329728344'"
      ]
     },
     "execution_count": 8,
     "metadata": {},
     "output_type": "execute_result"
    }
   ],
   "source": [
    "sub_href=li.select_one('.book_tit>a')['href'] #서브페이지 만들기. 속성값 뽑기\n",
    "sub_href"
   ]
  },
  {
   "cell_type": "code",
   "execution_count": 9,
   "metadata": {},
   "outputs": [],
   "source": [
    "#서브페이지에서 정보를 추출\n",
    "sub_url=base_url+sub_href\n",
    "sub_res=requests.get(sub_url)\n",
    "sub_soup=BeautifulSoup(sub_res.text, 'html.parser')"
   ]
  },
  {
   "cell_type": "code",
   "execution_count": 11,
   "metadata": {},
   "outputs": [
    {
     "data": {
      "text/plain": [
       "'IT@CookBook, 예제로 배우는 회로이론'"
      ]
     },
     "execution_count": 11,
     "metadata": {},
     "output_type": "execute_result"
    }
   ],
   "source": [
    "title=sub_soup.select_one('.store_product_info_box>h3').get_text().strip()\n",
    "title"
   ]
  },
  {
   "cell_type": "code",
   "execution_count": 16,
   "metadata": {},
   "outputs": [
    {
     "data": {
      "text/plain": [
       "{'저자': '김명식',\n",
       " '출간': '2023-12-10',\n",
       " '페이지': '696 쪽',\n",
       " 'ISBN': '9791156640042',\n",
       " '물류코드': '40004'}"
      ]
     },
     "execution_count": 16,
     "metadata": {},
     "output_type": "execute_result"
    }
   ],
   "source": [
    "#책 정보의 딕셔너리 생성\n",
    "sub_lis=sub_soup.select('.info_list > li')\n",
    "info_dict={}\n",
    "for sub_li in sub_lis[:-1]: #마지막 li는 제외\n",
    "    key=sub_li.find('strong').get_text().strip()\n",
    "    value=sub_li.find('span').get_text().strip()\n",
    "    info_dict[key[:-2]]=value #키값의 ':''을 없애기 위해서\n",
    "info_dict"
   ]
  },
  {
   "cell_type": "code",
   "execution_count": 17,
   "metadata": {},
   "outputs": [
    {
     "data": {
      "text/plain": [
       "<li class=\"sub_book_list\">\n",
       "<div class=\"view_box\">\n",
       "<span class=\"view_box_block\">\n",
       "<span class=\"img_hidden_a\">\n",
       "<span class=\"pop_quick_menu\">\n",
       "<a href=\"/academy/books/book_view.html?p_code=B9678437685\"><img alt=\"상세보기\" src=\"https://www.hanbit.co.kr/images/common/icon_view_detail.png\"/></a>\n",
       "</span>\n",
       "<span class=\"price\">21,000<span>원</span></span>\n",
       "<span class=\"pop_quick_bg\" onclick=\"location='/academy/books/book_view.html?p_code=B9678437685'\"></span>\n",
       "</span>\n",
       "<!-- 예약도서인 경우 -->\n",
       "<!-- ebook이 도서인 경우 -->\n",
       "<img alt=\"\" class=\"thumb\" src=\"/data/books/B9678437685_m.jpg\"/>\n",
       "</span>\n",
       "<div class=\"info\">\n",
       "<p class=\"book_tit\"><a href=\"/academy/books/book_view.html?p_code=B9678437685\">STEM CookBook, TAO 해석학 Ⅱ(4판)</a></p>\n",
       "<p class=\"book_writer\">Terence Tao </p>\n",
       "</div>\n",
       "</div>\n",
       "</li>"
      ]
     },
     "execution_count": 17,
     "metadata": {},
     "output_type": "execute_result"
    }
   ],
   "source": [
    "li=lis[10] #역자\n",
    "li"
   ]
  },
  {
   "cell_type": "code",
   "execution_count": 19,
   "metadata": {},
   "outputs": [
    {
     "data": {
      "text/plain": [
       "32000"
      ]
     },
     "execution_count": 19,
     "metadata": {},
     "output_type": "execute_result"
    }
   ],
   "source": [
    "price=int(sub_soup.select_one('.pbr>strong').string.replace(',',''))\n",
    "price"
   ]
  },
  {
   "cell_type": "code",
   "execution_count": 26,
   "metadata": {},
   "outputs": [],
   "source": [
    "data=[]\n",
    "for li in lis:\n",
    "    sub_href=li.select_one('.book_tit > a')['href']\n",
    "    sub_url=base_url+sub_href\n",
    "    sub_res=requests.get(sub_url)\n",
    "    sub_soup=BeautifulSoup(sub_res.text, 'html.parser')\n",
    "    title=sub_soup.select_one('.store_product_info_box>h3').get_text().strip()\n",
    "    sub_lis=sub_soup.select('.info_list > li')\n",
    "    info_dict={}\n",
    "    for sub_li in sub_lis[:-1]:\n",
    "        key=sub_li.find('strong').get_text().strip()\n",
    "        value=sub_li.find('span').get_text().strip()\n",
    "        info_dict[key[:-2]]=value\n",
    "    price=int(sub_soup.select_one('.pbr > strong').string.replace(',',''))\n",
    "\n",
    "#info_dict에서 저자 역자 출간일 페이지 추출\n",
    "    author=', '.join(info_dict['저자'].split(' , '))\n",
    "    translator=info_dict['번역'].replace(' ,',',') if '번역' in info_dict.keys() else ' ' #역자 없으면 공백\n",
    "    date=info_dict['출간']\n",
    "    page=int(info_dict['페이지'][:-2])\n",
    "\n",
    "    data.append({'제목':title, '저자':author,'역자':translator,'출간일':date,'페이지수':page, '가격':price})"
   ]
  },
  {
   "cell_type": "code",
   "execution_count": 28,
   "metadata": {},
   "outputs": [
    {
     "data": {
      "text/html": [
       "<div>\n",
       "<style scoped>\n",
       "    .dataframe tbody tr th:only-of-type {\n",
       "        vertical-align: middle;\n",
       "    }\n",
       "\n",
       "    .dataframe tbody tr th {\n",
       "        vertical-align: top;\n",
       "    }\n",
       "\n",
       "    .dataframe thead th {\n",
       "        text-align: right;\n",
       "    }\n",
       "</style>\n",
       "<table border=\"1\" class=\"dataframe\">\n",
       "  <thead>\n",
       "    <tr style=\"text-align: right;\">\n",
       "      <th></th>\n",
       "      <th>제목</th>\n",
       "      <th>저자</th>\n",
       "      <th>역자</th>\n",
       "      <th>출간일</th>\n",
       "      <th>페이지수</th>\n",
       "      <th>가격</th>\n",
       "    </tr>\n",
       "  </thead>\n",
       "  <tbody>\n",
       "    <tr>\n",
       "      <th>0</th>\n",
       "      <td>IT@CookBook, 예제로 배우는 회로이론</td>\n",
       "      <td>김명식</td>\n",
       "      <td></td>\n",
       "      <td>2023-12-10</td>\n",
       "      <td>696</td>\n",
       "      <td>32000</td>\n",
       "    </tr>\n",
       "    <tr>\n",
       "      <th>1</th>\n",
       "      <td>4차 산업혁명 시대의 창업실무(2판)</td>\n",
       "      <td>윤두열, 이정이</td>\n",
       "      <td></td>\n",
       "      <td>2023-12-08</td>\n",
       "      <td>436</td>\n",
       "      <td>29000</td>\n",
       "    </tr>\n",
       "    <tr>\n",
       "      <th>2</th>\n",
       "      <td>IT CookBook, 쉽게 배우는 JSP 웹 프로그래밍(2판)</td>\n",
       "      <td>송미영</td>\n",
       "      <td></td>\n",
       "      <td>2023-12-08</td>\n",
       "      <td>676</td>\n",
       "      <td>30000</td>\n",
       "    </tr>\n",
       "    <tr>\n",
       "      <th>3</th>\n",
       "      <td>IT CookBook, 핵심이 보이는 신호 및 시스템(2판)</td>\n",
       "      <td>이철희</td>\n",
       "      <td></td>\n",
       "      <td>2023-12-08</td>\n",
       "      <td>688</td>\n",
       "      <td>33000</td>\n",
       "    </tr>\n",
       "    <tr>\n",
       "      <th>4</th>\n",
       "      <td>STEM CookBook, 수학의 깊이를 더하는 『STEIN 복소해석학』 강의노트</td>\n",
       "      <td>김영원</td>\n",
       "      <td></td>\n",
       "      <td>2023-11-20</td>\n",
       "      <td>200</td>\n",
       "      <td>22000</td>\n",
       "    </tr>\n",
       "  </tbody>\n",
       "</table>\n",
       "</div>"
      ],
      "text/plain": [
       "                                              제목        저자 역자         출간일  \\\n",
       "0                      IT@CookBook, 예제로 배우는 회로이론       김명식     2023-12-10   \n",
       "1                           4차 산업혁명 시대의 창업실무(2판)  윤두열, 이정이     2023-12-08   \n",
       "2            IT CookBook, 쉽게 배우는 JSP 웹 프로그래밍(2판)       송미영     2023-12-08   \n",
       "3              IT CookBook, 핵심이 보이는 신호 및 시스템(2판)       이철희     2023-12-08   \n",
       "4  STEM CookBook, 수학의 깊이를 더하는 『STEIN 복소해석학』 강의노트       김영원     2023-11-20   \n",
       "\n",
       "   페이지수     가격  \n",
       "0   696  32000  \n",
       "1   436  29000  \n",
       "2   676  30000  \n",
       "3   688  33000  \n",
       "4   200  22000  "
      ]
     },
     "execution_count": 28,
     "metadata": {},
     "output_type": "execute_result"
    }
   ],
   "source": [
    "df=pd.DataFrame(data)\n",
    "df.head()"
   ]
  },
  {
   "cell_type": "code",
   "execution_count": 34,
   "metadata": {},
   "outputs": [
    {
     "name": "stderr",
     "output_type": "stream",
     "text": [
      "  0%|          | 0/24 [00:00<?, ?it/s]"
     ]
    },
    {
     "name": "stderr",
     "output_type": "stream",
     "text": [
      "100%|██████████| 24/24 [02:13<00:00,  5.56s/it]\n"
     ]
    }
   ],
   "source": [
    "#전체 페이지에서 정보 추출하기\n",
    "data1=[]\n",
    "for page in tqdm(range(1,25)): #24페이지까지\n",
    "    url=f'{base_url}{main_url}?page={page}'\n",
    "    res=requests.get(url)\n",
    "    soup = BeautifulSoup(res.text, 'html.parser')\n",
    "    for li in lis:\n",
    "        sub_href=li.select_one('.book_tit > a')['href']\n",
    "        sub_url=base_url+sub_href\n",
    "        sub_res=requests.get(sub_url)\n",
    "        BeautifulSoup(sub_res.text, 'html.parser')\n",
    "        title=sub_soup.select_one('.store_product_info_box>h3').get_text().strip()\n",
    "        sub_lis=sub_soup.select('.info_list > li')\n",
    "        info_dict={}\n",
    "        for sub_li in sub_lis[:-1]:\n",
    "            key=sub_li.find('strong').get_text().strip()\n",
    "            value=sub_li.find('span').get_text().strip()\n",
    "            info_dict[key[:-2]]=value\n",
    "        price=int(sub_soup.select_one('.pbr > strong').string.replace(',',''))\n",
    "\n",
    "#info_dict에서 저자 역자 출간일 페이지 추출\n",
    "        author=', '.join(info_dict['저자'].split(' , '))\n",
    "        translator=info_dict['번역'].replace(' ,',',') if '번역' in info_dict.keys() else ' ' #역자 없으면 공백\n",
    "        date=info_dict['출간']\n",
    "        page=int(info_dict['페이지'][:-2])\n",
    "\n",
    "        data1.append({'제목':title, '저자':author,'역자':translator,'출간일':date,'페이지수':page, '가격':price})"
   ]
  },
  {
   "cell_type": "code",
   "execution_count": null,
   "metadata": {},
   "outputs": [],
   "source": []
  }
 ],
 "metadata": {
  "kernelspec": {
   "display_name": "Python 3",
   "language": "python",
   "name": "python3"
  },
  "language_info": {
   "codemirror_mode": {
    "name": "ipython",
    "version": 3
   },
   "file_extension": ".py",
   "mimetype": "text/x-python",
   "name": "python",
   "nbconvert_exporter": "python",
   "pygments_lexer": "ipython3",
   "version": "3.9.12"
  }
 },
 "nbformat": 4,
 "nbformat_minor": 2
}
