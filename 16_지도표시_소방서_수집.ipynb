{
 "cells": [
  {
   "cell_type": "code",
   "execution_count": 6,
   "metadata": {},
   "outputs": [],
   "source": [
    "import time\n",
    "import pandas as pd \n",
    "from bs4 import BeautifulSoup\n",
    "from selenium import webdriver\n",
    "from selenium.webdriver.common.keys import Keys\n",
    "from selenium.webdriver.common.by import By"
   ]
  },
  {
   "cell_type": "code",
   "execution_count": 7,
   "metadata": {},
   "outputs": [],
   "source": [
    "url = 'https://www.nfa.go.kr/nfa/introduce/status/firestationidfo/?searchDistance=10&searchMode=distance&myX=37.5605672&myY=126.9433486&searchKeyword='\n",
    "driver=webdriver.Chrome()\n",
    "driver.get(url)"
   ]
  },
  {
   "cell_type": "code",
   "execution_count": 8,
   "metadata": {},
   "outputs": [],
   "source": [
    "driver.find_element(By.ID,'searchKeyword').send_keys('서울') #'searchKeyword'라는 ID를 가진 요소에 '서울'이라는 텍스트 입력\n",
    "driver.find_element(By.ID,'fsSearchBtn').click() #'sfsSearchBtn'라는 ID를 가진 요소를 클릭"
   ]
  },
  {
   "cell_type": "code",
   "execution_count": 9,
   "metadata": {},
   "outputs": [
    {
     "data": {
      "text/plain": [
       "10"
      ]
     },
     "execution_count": 9,
     "metadata": {},
     "output_type": "execute_result"
    }
   ],
   "source": [
    "soup=BeautifulSoup(driver.page_source,'html.parser') #셀레늄을 사용해 웹페이지의 HTML소스코드를 BeautifulSoup으로 파싱\n",
    "lis=soup.select('.stations-list>li')\n",
    "len(lis)"
   ]
  },
  {
   "cell_type": "code",
   "execution_count": 10,
   "metadata": {},
   "outputs": [
    {
     "data": {
      "text/plain": [
       "<li id=\"0\" style=\"height: 172px;\">\n",
       "<img class=\"marker\" src=\"/resources/img/firestation/map_ic_station.png\"/>\n",
       "<span class=\"title\">동작소방서</span>\n",
       "<address>서울특별시 동작구 여의대방로16길 55(신대방동)</address>\n",
       "<span class=\"tel\">02-847-1190</span>\n",
       "<span class=\"info\">서울소방재난본부</span>\n",
       "</li>"
      ]
     },
     "execution_count": 10,
     "metadata": {},
     "output_type": "execute_result"
    }
   ],
   "source": [
    "li=lis[0]\n",
    "li"
   ]
  },
  {
   "cell_type": "code",
   "execution_count": 12,
   "metadata": {},
   "outputs": [
    {
     "data": {
      "text/plain": [
       "'동작소방서'"
      ]
     },
     "execution_count": 12,
     "metadata": {},
     "output_type": "execute_result"
    }
   ],
   "source": [
    "title=li.select_one('.title').get_text().strip() #선택된 요소에서 텍스트를 가져와 공백을 제거\n",
    "title"
   ]
  },
  {
   "cell_type": "code",
   "execution_count": 13,
   "metadata": {},
   "outputs": [
    {
     "data": {
      "text/plain": [
       "'서울특별시 동작구 여의대방로16길 55(신대방동)'"
      ]
     },
     "execution_count": 13,
     "metadata": {},
     "output_type": "execute_result"
    }
   ],
   "source": [
    "address=li.select_one('address').get_text().strip()\n",
    "address"
   ]
  },
  {
   "cell_type": "code",
   "execution_count": 14,
   "metadata": {},
   "outputs": [
    {
     "data": {
      "text/plain": [
       "'02-847-1190'"
      ]
     },
     "execution_count": 14,
     "metadata": {},
     "output_type": "execute_result"
    }
   ],
   "source": [
    "tel=li.select_one('.tel').get_text().strip()\n",
    "tel"
   ]
  },
  {
   "cell_type": "code",
   "execution_count": 15,
   "metadata": {},
   "outputs": [],
   "source": [
    "data=[]\n",
    "for li in lis:\n",
    "    title=li.select_one('.title').get_text().strip()\n",
    "    address=li.select_one('address').get_text().strip()\n",
    "    tel=li.select_one('.tel').get_text().strip()\n",
    "    data.append({'기관명':title, '주소':address, '전화번호':tel})"
   ]
  },
  {
   "cell_type": "code",
   "execution_count": 16,
   "metadata": {},
   "outputs": [
    {
     "data": {
      "text/plain": [
       "[{'기관명': '동작소방서', '주소': '서울특별시 동작구 여의대방로16길 55(신대방동)', '전화번호': '02-847-1190'},\n",
       " {'기관명': '서대문소방서', '주소': '서울특별시 서대문구 연희로 182(연희동)', '전화번호': '02-3144-1190'},\n",
       " {'기관명': '광진소방서', '주소': '서울특별시 광진구 광나루로 480(구의동)', '전화번호': '02-457-0119'},\n",
       " {'기관명': '송파소방서', '주소': '서울특별시 송파구 오금로51길 56(마천동)', '전화번호': '02-403-2119'},\n",
       " {'기관명': '양천소방서', '주소': '서울특별시 양천구 목동서로 180(목동)', '전화번호': '02-2655-1119'},\n",
       " {'기관명': '은평소방서', '주소': '서울특별시 은평구 통일로 962(진관동)', '전화번호': '02-355-0119'},\n",
       " {'기관명': '노원소방서', '주소': '서울특별시 노원구 한글비석로 1길 8(하계동)', '전화번호': '02-977-0119'},\n",
       " {'기관명': '종로소방서', '주소': '서울특별시 종로구 종로1길 28(수송동)', '전화번호': '02-735-6119'},\n",
       " {'기관명': '도봉소방서', '주소': '서울특별시 도봉구 도봉로 666(방학동)', '전화번호': '02-3492-3437'},\n",
       " {'기관명': '용산소방서', '주소': '서울특별시 용산구 한강대로 167(한강로2가)', '전화번호': '02-794-0119'}]"
      ]
     },
     "execution_count": 16,
     "metadata": {},
     "output_type": "execute_result"
    }
   ],
   "source": [
    "data"
   ]
  },
  {
   "cell_type": "code",
   "execution_count": 17,
   "metadata": {},
   "outputs": [],
   "source": [
    "driver.find_element(By.CSS_SELECTOR, '.next_page').click()"
   ]
  },
  {
   "cell_type": "markdown",
   "metadata": {},
   "source": [
    "모든 페이지에 적용"
   ]
  },
  {
   "cell_type": "code",
   "execution_count": 18,
   "metadata": {},
   "outputs": [],
   "source": [
    "#첫번째 페이지\n",
    "driver.get(url)\n",
    "time.sleep(2)\n",
    "driver.find_element(By.ID,'searchKeyword').send_keys('서울')\n",
    "driver.find_element(By.ID,'fsSearchBtn').click()"
   ]
  },
  {
   "cell_type": "code",
   "execution_count": 20,
   "metadata": {},
   "outputs": [
    {
     "data": {
      "text/plain": [
       "100"
      ]
     },
     "execution_count": 20,
     "metadata": {},
     "output_type": "execute_result"
    }
   ],
   "source": [
    "#서울 100건\n",
    "count = driver.find_element(By.XPATH, '//*[@id=\"listForm\"]/div/section/div/p/strong[2]').text\n",
    "count = int(count[:-1]) #'건'뻬고\n",
    "count\n",
    "\n",
    "#'\"서울\" 소방기관 검색결과 100건' 여기서 '100건' XPATH\n",
    "#특정 XPATH를 통해 요소를 찾고- > 해당 요소의 텍스트를 가져와서 문자열에서 마지막 문자를 제외한 부분을 정수형으로 변환 -> count변수에 저장"
   ]
  },
  {
   "cell_type": "code",
   "execution_count": 22,
   "metadata": {},
   "outputs": [
    {
     "data": {
      "text/plain": [
       "10"
      ]
     },
     "execution_count": 22,
     "metadata": {},
     "output_type": "execute_result"
    }
   ],
   "source": [
    "import math #총 페이지 수를 계산\n",
    "total_pages=math.ceil(count/10) #math.ceil(): 소수점 이하를 올림하여 필요한 전체 페이지 수를 계산\n",
    "total_pages"
   ]
  },
  {
   "cell_type": "code",
   "execution_count": 24,
   "metadata": {},
   "outputs": [],
   "source": [
    "data1 = []\n",
    "for i in range(total_pages): #변수에 저장된 총 페이지 수만큼 반복문 실행\n",
    "    if i % 2 == 1: #만약 i가 홀수일 때\n",
    "        driver.find_element(By.CSS_SELECTOR, '.next_page').click()\n",
    "        time.sleep(1)\n",
    "    if i > 0 and i % 2 == 0: #만약 i가 0보다 크고 짝수일 때\n",
    "        driver.find_element(By.XPATH, '//*[@id=\"listForm\"]/div/section/ul/li[1]/div/div/ul/li[5]/a').click()\n",
    "        time.sleep(1)\n",
    "    \n",
    "    soup = BeautifulSoup(driver.page_source, 'html.parser')\n",
    "    lis = soup.select('.stations-list > li')\n",
    "    for li in lis:\n",
    "        title = li.select_one('.title').get_text().strip()\n",
    "        addr = li.select_one('address').get_text().strip()\n",
    "        tel = li.select_one('.tel').get_text().strip()\n",
    "        data1.append({'기관명':title, '주소' :addr, '전화번호' : tel})"
   ]
  },
  {
   "cell_type": "code",
   "execution_count": 25,
   "metadata": {},
   "outputs": [
    {
     "data": {
      "text/html": [
       "<div>\n",
       "<style scoped>\n",
       "    .dataframe tbody tr th:only-of-type {\n",
       "        vertical-align: middle;\n",
       "    }\n",
       "\n",
       "    .dataframe tbody tr th {\n",
       "        vertical-align: top;\n",
       "    }\n",
       "\n",
       "    .dataframe thead th {\n",
       "        text-align: right;\n",
       "    }\n",
       "</style>\n",
       "<table border=\"1\" class=\"dataframe\">\n",
       "  <thead>\n",
       "    <tr style=\"text-align: right;\">\n",
       "      <th></th>\n",
       "      <th>기관명</th>\n",
       "      <th>주소</th>\n",
       "      <th>전화번호</th>\n",
       "    </tr>\n",
       "  </thead>\n",
       "  <tbody>\n",
       "    <tr>\n",
       "      <th>0</th>\n",
       "      <td>동작소방서</td>\n",
       "      <td>서울특별시 동작구 여의대방로16길 55(신대방동)</td>\n",
       "      <td>02-847-1190</td>\n",
       "    </tr>\n",
       "    <tr>\n",
       "      <th>1</th>\n",
       "      <td>서대문소방서</td>\n",
       "      <td>서울특별시 서대문구 연희로 182(연희동)</td>\n",
       "      <td>02-3144-1190</td>\n",
       "    </tr>\n",
       "    <tr>\n",
       "      <th>2</th>\n",
       "      <td>광진소방서</td>\n",
       "      <td>서울특별시 광진구 광나루로 480(구의동)</td>\n",
       "      <td>02-457-0119</td>\n",
       "    </tr>\n",
       "    <tr>\n",
       "      <th>3</th>\n",
       "      <td>송파소방서</td>\n",
       "      <td>서울특별시 송파구 오금로51길 56(마천동)</td>\n",
       "      <td>02-403-2119</td>\n",
       "    </tr>\n",
       "    <tr>\n",
       "      <th>4</th>\n",
       "      <td>양천소방서</td>\n",
       "      <td>서울특별시 양천구 목동서로 180(목동)</td>\n",
       "      <td>02-2655-1119</td>\n",
       "    </tr>\n",
       "  </tbody>\n",
       "</table>\n",
       "</div>"
      ],
      "text/plain": [
       "      기관명                           주소          전화번호\n",
       "0   동작소방서  서울특별시 동작구 여의대방로16길 55(신대방동)   02-847-1190\n",
       "1  서대문소방서      서울특별시 서대문구 연희로 182(연희동)  02-3144-1190\n",
       "2   광진소방서      서울특별시 광진구 광나루로 480(구의동)   02-457-0119\n",
       "3   송파소방서     서울특별시 송파구 오금로51길 56(마천동)   02-403-2119\n",
       "4   양천소방서       서울특별시 양천구 목동서로 180(목동)  02-2655-1119"
      ]
     },
     "execution_count": 25,
     "metadata": {},
     "output_type": "execute_result"
    }
   ],
   "source": [
    "df1=pd.DataFrame(data1)\n",
    "df1.head()"
   ]
  },
  {
   "cell_type": "code",
   "execution_count": 26,
   "metadata": {},
   "outputs": [
    {
     "data": {
      "text/plain": [
       "100"
      ]
     },
     "execution_count": 26,
     "metadata": {},
     "output_type": "execute_result"
    }
   ],
   "source": [
    "len(df1)"
   ]
  },
  {
   "cell_type": "code",
   "execution_count": 27,
   "metadata": {},
   "outputs": [],
   "source": [
    "df1.to_csv('서울소방서.csv', index=False) #인덱스를 CSV파일에 포함하지 않도록 지정"
   ]
  }
 ],
 "metadata": {
  "kernelspec": {
   "display_name": "Python 3",
   "language": "python",
   "name": "python3"
  },
  "language_info": {
   "codemirror_mode": {
    "name": "ipython",
    "version": 3
   },
   "file_extension": ".py",
   "mimetype": "text/x-python",
   "name": "python",
   "nbconvert_exporter": "python",
   "pygments_lexer": "ipython3",
   "version": "3.9.12"
  }
 },
 "nbformat": 4,
 "nbformat_minor": 2
}
