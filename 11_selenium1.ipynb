{
 "cells": [
  {
   "cell_type": "code",
   "execution_count": 1,
   "metadata": {},
   "outputs": [
    {
     "name": "stdout",
     "output_type": "stream",
     "text": [
      "Collecting selenium\n",
      "  Downloading selenium-4.16.0-py3-none-any.whl.metadata (6.9 kB)\n",
      "Requirement already satisfied: urllib3<3,>=1.26 in c:\\python39\\lib\\site-packages (from urllib3[socks]<3,>=1.26->selenium) (2.0.7)\n",
      "Collecting trio~=0.17 (from selenium)\n",
      "  Downloading trio-0.23.1-py3-none-any.whl.metadata (4.9 kB)\n",
      "Collecting trio-websocket~=0.9 (from selenium)\n",
      "  Downloading trio_websocket-0.11.1-py3-none-any.whl.metadata (4.7 kB)\n",
      "Requirement already satisfied: certifi>=2021.10.8 in c:\\python39\\lib\\site-packages (from selenium) (2023.7.22)\n",
      "Requirement already satisfied: attrs>=20.1.0 in c:\\python39\\lib\\site-packages (from trio~=0.17->selenium) (23.1.0)\n",
      "Collecting sortedcontainers (from trio~=0.17->selenium)\n",
      "  Downloading sortedcontainers-2.4.0-py2.py3-none-any.whl (29 kB)\n",
      "Requirement already satisfied: idna in c:\\python39\\lib\\site-packages (from trio~=0.17->selenium) (3.4)\n",
      "Collecting outcome (from trio~=0.17->selenium)\n",
      "  Downloading outcome-1.3.0.post0-py2.py3-none-any.whl.metadata (2.6 kB)\n",
      "Requirement already satisfied: sniffio>=1.3.0 in c:\\python39\\lib\\site-packages (from trio~=0.17->selenium) (1.3.0)\n",
      "Requirement already satisfied: cffi>=1.14 in c:\\python39\\lib\\site-packages (from trio~=0.17->selenium) (1.16.0)\n",
      "Requirement already satisfied: exceptiongroup>=1.0.0rc9 in c:\\python39\\lib\\site-packages (from trio~=0.17->selenium) (1.1.3)\n",
      "Collecting wsproto>=0.14 (from trio-websocket~=0.9->selenium)\n",
      "  Downloading wsproto-1.2.0-py3-none-any.whl (24 kB)\n",
      "Collecting pysocks!=1.5.7,<2.0,>=1.5.6 (from urllib3[socks]<3,>=1.26->selenium)\n",
      "  Downloading PySocks-1.7.1-py3-none-any.whl (16 kB)\n",
      "Requirement already satisfied: pycparser in c:\\python39\\lib\\site-packages (from cffi>=1.14->trio~=0.17->selenium) (2.21)\n",
      "Collecting h11<1,>=0.9.0 (from wsproto>=0.14->trio-websocket~=0.9->selenium)\n",
      "  Downloading h11-0.14.0-py3-none-any.whl (58 kB)\n",
      "     ---------------------------------------- 0.0/58.3 kB ? eta -:--:--\n",
      "     ----------------------------------- ---- 51.2/58.3 kB 1.3 MB/s eta 0:00:01\n",
      "     ---------------------------------------- 58.3/58.3 kB 1.0 MB/s eta 0:00:00\n",
      "Downloading selenium-4.16.0-py3-none-any.whl (10.0 MB)\n",
      "   ---------------------------------------- 0.0/10.0 MB ? eta -:--:--\n",
      "   -- ------------------------------------- 0.7/10.0 MB 15.3 MB/s eta 0:00:01\n",
      "   ------- -------------------------------- 1.8/10.0 MB 22.6 MB/s eta 0:00:01\n",
      "   ---------- ----------------------------- 2.5/10.0 MB 19.9 MB/s eta 0:00:01\n",
      "   ---------- ----------------------------- 2.7/10.0 MB 15.7 MB/s eta 0:00:01\n",
      "   ----------- ---------------------------- 2.8/10.0 MB 13.6 MB/s eta 0:00:01\n",
      "   ------------ --------------------------- 3.1/10.0 MB 10.8 MB/s eta 0:00:01\n",
      "   ------------- -------------------------- 3.4/10.0 MB 10.3 MB/s eta 0:00:01\n",
      "   -------------- ------------------------- 3.6/10.0 MB 9.6 MB/s eta 0:00:01\n",
      "   --------------- ------------------------ 3.8/10.0 MB 8.9 MB/s eta 0:00:01\n",
      "   ---------------- ----------------------- 4.2/10.0 MB 9.6 MB/s eta 0:00:01\n",
      "   -------------------- ------------------- 5.0/10.0 MB 10.0 MB/s eta 0:00:01\n",
      "   --------------------- ------------------ 5.4/10.0 MB 9.9 MB/s eta 0:00:01\n",
      "   ---------------------- ----------------- 5.6/10.0 MB 9.4 MB/s eta 0:00:01\n",
      "   ----------------------- ---------------- 5.8/10.0 MB 9.2 MB/s eta 0:00:01\n",
      "   ------------------------ --------------- 6.0/10.0 MB 8.9 MB/s eta 0:00:01\n",
      "   ------------------------ --------------- 6.1/10.0 MB 8.2 MB/s eta 0:00:01\n",
      "   ------------------------ --------------- 6.1/10.0 MB 7.8 MB/s eta 0:00:01\n",
      "   ------------------------ --------------- 6.1/10.0 MB 7.3 MB/s eta 0:00:01\n",
      "   ------------------------ --------------- 6.2/10.0 MB 7.1 MB/s eta 0:00:01\n",
      "   ------------------------ --------------- 6.2/10.0 MB 6.9 MB/s eta 0:00:01\n",
      "   ------------------------- -------------- 6.2/10.0 MB 6.5 MB/s eta 0:00:01\n",
      "   ------------------------- -------------- 6.2/10.0 MB 6.5 MB/s eta 0:00:01\n",
      "   ------------------------- -------------- 6.3/10.0 MB 6.1 MB/s eta 0:00:01\n",
      "   ------------------------- -------------- 6.3/10.0 MB 5.9 MB/s eta 0:00:01\n",
      "   ------------------------- -------------- 6.3/10.0 MB 5.5 MB/s eta 0:00:01\n",
      "   ------------------------- -------------- 6.3/10.0 MB 5.4 MB/s eta 0:00:01\n",
      "   ------------------------- -------------- 6.3/10.0 MB 5.3 MB/s eta 0:00:01\n",
      "   ------------------------- -------------- 6.4/10.0 MB 5.0 MB/s eta 0:00:01\n",
      "   ------------------------- -------------- 6.4/10.0 MB 4.9 MB/s eta 0:00:01\n",
      "   ------------------------- -------------- 6.4/10.0 MB 4.9 MB/s eta 0:00:01\n",
      "   ------------------------- -------------- 6.5/10.0 MB 4.5 MB/s eta 0:00:01\n",
      "   ------------------------- -------------- 6.5/10.0 MB 4.4 MB/s eta 0:00:01\n",
      "   -------------------------- ------------- 6.5/10.0 MB 4.3 MB/s eta 0:00:01\n",
      "   -------------------------- ------------- 6.5/10.0 MB 4.3 MB/s eta 0:00:01\n",
      "   -------------------------- ------------- 6.5/10.0 MB 4.0 MB/s eta 0:00:01\n",
      "   -------------------------- ------------- 6.5/10.0 MB 4.0 MB/s eta 0:00:01\n",
      "   -------------------------- ------------- 6.5/10.0 MB 3.8 MB/s eta 0:00:01\n",
      "   -------------------------- ------------- 6.5/10.0 MB 3.8 MB/s eta 0:00:01\n",
      "   -------------------------- ------------- 6.5/10.0 MB 3.6 MB/s eta 0:00:01\n",
      "   -------------------------- ------------- 6.6/10.0 MB 3.6 MB/s eta 0:00:01\n",
      "   -------------------------- ------------- 6.6/10.0 MB 3.5 MB/s eta 0:00:01\n",
      "   -------------------------- ------------- 6.6/10.0 MB 3.4 MB/s eta 0:00:01\n",
      "   -------------------------- ------------- 6.7/10.0 MB 3.4 MB/s eta 0:00:01\n",
      "   --------------------------- ------------ 6.8/10.0 MB 3.3 MB/s eta 0:00:01\n",
      "   --------------------------- ------------ 6.8/10.0 MB 3.3 MB/s eta 0:00:01\n",
      "   --------------------------- ------------ 6.8/10.0 MB 3.2 MB/s eta 0:00:01\n",
      "   --------------------------- ------------ 6.8/10.0 MB 3.1 MB/s eta 0:00:01\n",
      "   --------------------------- ------------ 6.8/10.0 MB 3.1 MB/s eta 0:00:01\n",
      "   --------------------------- ------------ 6.9/10.0 MB 3.0 MB/s eta 0:00:02\n",
      "   --------------------------- ------------ 6.9/10.0 MB 3.0 MB/s eta 0:00:02\n",
      "   --------------------------- ------------ 6.9/10.0 MB 2.9 MB/s eta 0:00:02\n",
      "   --------------------------- ------------ 7.0/10.0 MB 2.9 MB/s eta 0:00:02\n",
      "   ---------------------------- ----------- 7.0/10.0 MB 2.9 MB/s eta 0:00:02\n",
      "   ---------------------------- ----------- 7.1/10.0 MB 2.8 MB/s eta 0:00:02\n",
      "   ---------------------------- ----------- 7.1/10.0 MB 2.8 MB/s eta 0:00:02\n",
      "   ---------------------------- ----------- 7.1/10.0 MB 2.8 MB/s eta 0:00:02\n",
      "   ---------------------------- ----------- 7.1/10.0 MB 2.7 MB/s eta 0:00:02\n",
      "   ---------------------------- ----------- 7.1/10.0 MB 2.7 MB/s eta 0:00:02\n",
      "   ---------------------------- ----------- 7.1/10.0 MB 2.7 MB/s eta 0:00:02\n",
      "   ---------------------------- ----------- 7.1/10.0 MB 2.7 MB/s eta 0:00:02\n",
      "   ---------------------------- ----------- 7.2/10.0 MB 2.5 MB/s eta 0:00:02\n",
      "   ---------------------------- ----------- 7.2/10.0 MB 2.5 MB/s eta 0:00:02\n",
      "   ---------------------------- ----------- 7.2/10.0 MB 2.4 MB/s eta 0:00:02\n",
      "   ---------------------------- ----------- 7.2/10.0 MB 2.4 MB/s eta 0:00:02\n",
      "   ----------------------------- ---------- 7.3/10.0 MB 2.4 MB/s eta 0:00:02\n",
      "   ------------------------------ --------- 7.6/10.0 MB 2.5 MB/s eta 0:00:01\n",
      "   --------------------------------- ------ 8.3/10.0 MB 2.7 MB/s eta 0:00:01\n",
      "   ------------------------------------- -- 9.2/10.0 MB 2.9 MB/s eta 0:00:01\n",
      "   ---------------------------------------  10.0/10.0 MB 3.1 MB/s eta 0:00:01\n",
      "   ---------------------------------------- 10.0/10.0 MB 3.1 MB/s eta 0:00:00\n",
      "Downloading trio-0.23.1-py3-none-any.whl (448 kB)\n",
      "   ---------------------------------------- 0.0/448.3 kB ? eta -:--:--\n",
      "   -------------------------------- ------ 368.6/448.3 kB 11.6 MB/s eta 0:00:01\n",
      "   ---------------------------------------- 448.3/448.3 kB 7.1 MB/s eta 0:00:00\n",
      "Downloading trio_websocket-0.11.1-py3-none-any.whl (17 kB)\n",
      "Downloading outcome-1.3.0.post0-py2.py3-none-any.whl (10 kB)\n",
      "Installing collected packages: sortedcontainers, pysocks, outcome, h11, wsproto, trio, trio-websocket, selenium\n",
      "Successfully installed h11-0.14.0 outcome-1.3.0.post0 pysocks-1.7.1 selenium-4.16.0 sortedcontainers-2.4.0 trio-0.23.1 trio-websocket-0.11.1 wsproto-1.2.0\n"
     ]
    }
   ],
   "source": [
    "#!pip install selenium"
   ]
  },
  {
   "cell_type": "code",
   "execution_count": 26,
   "metadata": {},
   "outputs": [],
   "source": [
    "#bs4는 동적인 데이터를 입력해서 결과를 얻어내기 힘들기 때문에 selenium을 사용\n",
    "import time\n",
    "from selenium import webdriver #브라우저 제어 모듈\n",
    "from selenium.webdriver.common.keys import Keys\n",
    "from selenium.webdriver.common.by import By"
   ]
  },
  {
   "cell_type": "code",
   "execution_count": 27,
   "metadata": {},
   "outputs": [],
   "source": [
    "import requests\n",
    "from bs4 import BeautifulSoup\n",
    "url=\"https://www.google.co.kr\"\n",
    "req=requests.get(url)\n",
    "soup=BeautifulSoup(req.text, 'html.parser')"
   ]
  },
  {
   "cell_type": "code",
   "execution_count": 38,
   "metadata": {},
   "outputs": [],
   "source": [
    "#driver=webdriver.Chrome('./chromedriver.exe') : 예전방식\n",
    "driver=webdriver.Chrome() #최신버전의 크롬은 크롬드라이버가 내장되어있음. 실행 시 브라우저가 자동으로 켜짐\n",
    "driver.get(url)\n",
    "search_box=driver.find_element(by=By.NAME, value='q')\n",
    "search_box.send_keys('ChromeDriver')\n",
    "search_box.send_keys(Keys.ENTER)\n",
    "time.sleep(2)"
   ]
  },
  {
   "cell_type": "code",
   "execution_count": 29,
   "metadata": {},
   "outputs": [
    {
     "data": {
      "text/plain": [
       "[<selenium.webdriver.remote.webelement.WebElement (session=\"4a2cc7f923ca3256a7380c3f132b61fa\", element=\"057FBFDE1DA98434DDDC676CA35F390D_element_23\")>,\n",
       " <selenium.webdriver.remote.webelement.WebElement (session=\"4a2cc7f923ca3256a7380c3f132b61fa\", element=\"057FBFDE1DA98434DDDC676CA35F390D_element_24\")>,\n",
       " <selenium.webdriver.remote.webelement.WebElement (session=\"4a2cc7f923ca3256a7380c3f132b61fa\", element=\"057FBFDE1DA98434DDDC676CA35F390D_element_25\")>,\n",
       " <selenium.webdriver.remote.webelement.WebElement (session=\"4a2cc7f923ca3256a7380c3f132b61fa\", element=\"057FBFDE1DA98434DDDC676CA35F390D_element_26\")>,\n",
       " <selenium.webdriver.remote.webelement.WebElement (session=\"4a2cc7f923ca3256a7380c3f132b61fa\", element=\"057FBFDE1DA98434DDDC676CA35F390D_element_27\")>,\n",
       " <selenium.webdriver.remote.webelement.WebElement (session=\"4a2cc7f923ca3256a7380c3f132b61fa\", element=\"057FBFDE1DA98434DDDC676CA35F390D_element_28\")>,\n",
       " <selenium.webdriver.remote.webelement.WebElement (session=\"4a2cc7f923ca3256a7380c3f132b61fa\", element=\"057FBFDE1DA98434DDDC676CA35F390D_element_29\")>,\n",
       " <selenium.webdriver.remote.webelement.WebElement (session=\"4a2cc7f923ca3256a7380c3f132b61fa\", element=\"057FBFDE1DA98434DDDC676CA35F390D_element_30\")>,\n",
       " <selenium.webdriver.remote.webelement.WebElement (session=\"4a2cc7f923ca3256a7380c3f132b61fa\", element=\"057FBFDE1DA98434DDDC676CA35F390D_element_31\")>,\n",
       " <selenium.webdriver.remote.webelement.WebElement (session=\"4a2cc7f923ca3256a7380c3f132b61fa\", element=\"057FBFDE1DA98434DDDC676CA35F390D_element_32\")>]"
      ]
     },
     "execution_count": 29,
     "metadata": {},
     "output_type": "execute_result"
    }
   ],
   "source": [
    "divs=driver.find_elements(by=By.CSS_SELECTOR,value='#search .g') #검색결과가 여러개이므로\n",
    "divs"
   ]
  },
  {
   "cell_type": "code",
   "execution_count": 30,
   "metadata": {},
   "outputs": [],
   "source": [
    "div=divs[0]"
   ]
  },
  {
   "cell_type": "code",
   "execution_count": 31,
   "metadata": {},
   "outputs": [
    {
     "data": {
      "text/plain": [
       "'WebDriver for Chrome - Downloads'"
      ]
     },
     "execution_count": 31,
     "metadata": {},
     "output_type": "execute_result"
    }
   ],
   "source": [
    "title=div.find_element(by=By.CSS_SELECTOR, value='.LC20lb.MBeuO.DKV0Md').text\n",
    "title\n",
    "#title=div.find_element(By.CSS_SELECTOR, '.LC20lb.MBeuO.DKV0Md').text도 가능"
   ]
  },
  {
   "cell_type": "code",
   "execution_count": 32,
   "metadata": {},
   "outputs": [
    {
     "data": {
      "text/plain": [
       "<function str.strip(chars=None, /)>"
      ]
     },
     "execution_count": 32,
     "metadata": {},
     "output_type": "execute_result"
    }
   ],
   "source": [
    "content=div.find_element(By.CSS_SELECTOR,\".VwiC3b.yXK7lf.lVm3ye\").text.strip\n",
    "content"
   ]
  },
  {
   "cell_type": "code",
   "execution_count": 33,
   "metadata": {},
   "outputs": [],
   "source": [
    "lines=[]\n",
    "for div in divs:\n",
    "    try:\n",
    "        title=div.find_element(by=By.CSS_SELECTOR, value='.LC20lb.MBeuO.DKV0Md').text\n",
    "        content=div.find_element(By.CSS_SELECTOR,\".VwiC3b.yXK7lf.lVm3ye\").text.strip\n",
    "    except:\n",
    "        continue\n",
    "    lines.append([title,content])    "
   ]
  },
  {
   "cell_type": "code",
   "execution_count": 34,
   "metadata": {},
   "outputs": [
    {
     "data": {
      "text/html": [
       "<div>\n",
       "<style scoped>\n",
       "    .dataframe tbody tr th:only-of-type {\n",
       "        vertical-align: middle;\n",
       "    }\n",
       "\n",
       "    .dataframe tbody tr th {\n",
       "        vertical-align: top;\n",
       "    }\n",
       "\n",
       "    .dataframe thead th {\n",
       "        text-align: right;\n",
       "    }\n",
       "</style>\n",
       "<table border=\"1\" class=\"dataframe\">\n",
       "  <thead>\n",
       "    <tr style=\"text-align: right;\">\n",
       "      <th></th>\n",
       "      <th>제목</th>\n",
       "      <th>내용</th>\n",
       "    </tr>\n",
       "  </thead>\n",
       "  <tbody>\n",
       "    <tr>\n",
       "      <th>0</th>\n",
       "      <td>WebDriver for Chrome - Downloads</td>\n",
       "      <td>&lt;built-in method strip of str object at 0x0000...</td>\n",
       "    </tr>\n",
       "    <tr>\n",
       "      <th>1</th>\n",
       "      <td>ChromeDriver - WebDriver for Chrome</td>\n",
       "      <td>&lt;built-in method strip of str object at 0x0000...</td>\n",
       "    </tr>\n",
       "    <tr>\n",
       "      <th>2</th>\n",
       "      <td>Chromedriver 다운로드 및 설치하는 법 - 코딩으로 자아실현</td>\n",
       "      <td>&lt;built-in method strip of str object at 0x0000...</td>\n",
       "    </tr>\n",
       "    <tr>\n",
       "      <th>3</th>\n",
       "      <td>Python으로 Chrome 제어하기: Selenium 및 ChromeDriver ...</td>\n",
       "      <td>&lt;built-in method strip of str object at 0x0000...</td>\n",
       "    </tr>\n",
       "    <tr>\n",
       "      <th>4</th>\n",
       "      <td>Selenium과 Chromedriver를 사용한 웹 스크래핑(크롤링)에 ...</td>\n",
       "      <td>&lt;built-in method strip of str object at 0x0000...</td>\n",
       "    </tr>\n",
       "    <tr>\n",
       "      <th>5</th>\n",
       "      <td>WebDriver for Chrome - Getting started</td>\n",
       "      <td>&lt;built-in method strip of str object at 0x0000...</td>\n",
       "    </tr>\n",
       "    <tr>\n",
       "      <th>6</th>\n",
       "      <td>Chrome Web Driver 최신 버전 설치 방법 119.**</td>\n",
       "      <td>&lt;built-in method strip of str object at 0x0000...</td>\n",
       "    </tr>\n",
       "    <tr>\n",
       "      <th>7</th>\n",
       "      <td>크롬드라이버 설정 방법 - Windows (2023 Aug)</td>\n",
       "      <td>&lt;built-in method strip of str object at 0x0000...</td>\n",
       "    </tr>\n",
       "    <tr>\n",
       "      <th>8</th>\n",
       "      <td>driver = webdriver.Chrome('chromedriver', opti...</td>\n",
       "      <td>&lt;built-in method strip of str object at 0x0000...</td>\n",
       "    </tr>\n",
       "    <tr>\n",
       "      <th>9</th>\n",
       "      <td>크롬드라이버(Chrome Driver) 설치, 다운로드 - 시골쥐의 공부생활</td>\n",
       "      <td>&lt;built-in method strip of str object at 0x0000...</td>\n",
       "    </tr>\n",
       "  </tbody>\n",
       "</table>\n",
       "</div>"
      ],
      "text/plain": [
       "                                                  제목  \\\n",
       "0                   WebDriver for Chrome - Downloads   \n",
       "1                ChromeDriver - WebDriver for Chrome   \n",
       "2             Chromedriver 다운로드 및 설치하는 법 - 코딩으로 자아실현   \n",
       "3  Python으로 Chrome 제어하기: Selenium 및 ChromeDriver ...   \n",
       "4       Selenium과 Chromedriver를 사용한 웹 스크래핑(크롤링)에 ...   \n",
       "5             WebDriver for Chrome - Getting started   \n",
       "6               Chrome Web Driver 최신 버전 설치 방법 119.**   \n",
       "7                  크롬드라이버 설정 방법 - Windows (2023 Aug)   \n",
       "8  driver = webdriver.Chrome('chromedriver', opti...   \n",
       "9         크롬드라이버(Chrome Driver) 설치, 다운로드 - 시골쥐의 공부생활   \n",
       "\n",
       "                                                  내용  \n",
       "0  <built-in method strip of str object at 0x0000...  \n",
       "1  <built-in method strip of str object at 0x0000...  \n",
       "2  <built-in method strip of str object at 0x0000...  \n",
       "3  <built-in method strip of str object at 0x0000...  \n",
       "4  <built-in method strip of str object at 0x0000...  \n",
       "5  <built-in method strip of str object at 0x0000...  \n",
       "6  <built-in method strip of str object at 0x0000...  \n",
       "7  <built-in method strip of str object at 0x0000...  \n",
       "8  <built-in method strip of str object at 0x0000...  \n",
       "9  <built-in method strip of str object at 0x0000...  "
      ]
     },
     "execution_count": 34,
     "metadata": {},
     "output_type": "execute_result"
    }
   ],
   "source": [
    "import pandas as pd\n",
    "df=pd.DataFrame(lines, columns=['제목','내용'])\n",
    "df"
   ]
  },
  {
   "cell_type": "code",
   "execution_count": 39,
   "metadata": {},
   "outputs": [],
   "source": [
    "driver.close() #열려있는 브라우저 종료를 반드시 해야함"
   ]
  }
 ],
 "metadata": {
  "kernelspec": {
   "display_name": "Python 3",
   "language": "python",
   "name": "python3"
  },
  "language_info": {
   "codemirror_mode": {
    "name": "ipython",
    "version": 3
   },
   "file_extension": ".py",
   "mimetype": "text/x-python",
   "name": "python",
   "nbconvert_exporter": "python",
   "pygments_lexer": "ipython3",
   "version": "3.9.12"
  }
 },
 "nbformat": 4,
 "nbformat_minor": 2
}
